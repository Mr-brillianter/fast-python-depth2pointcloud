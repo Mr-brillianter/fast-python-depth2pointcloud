{
 "cells": [
  {
   "cell_type": "code",
   "execution_count": 1,
   "metadata": {},
   "outputs": [
    {
     "name": "stdout",
     "output_type": "stream",
     "text": [
      "Jupyter environment detected. Enabling Open3D WebVisualizer.\n",
      "[Open3D INFO] WebRTC GUI backend enabled.\n",
      "[Open3D INFO] WebRTCWindowSystem: HTTP handshake server disabled.\n"
     ]
    }
   ],
   "source": [
    "import numpy as np\n",
    "import cv2\n",
    "import open3d as o3d\n",
    "import time\n",
    "\n",
    "# 读取深度图像\n",
    "depth_img = cv2.imread(\"../img/1_depth.png\", cv2.IMREAD_GRAYSCALE)"
   ]
  },
  {
   "cell_type": "code",
   "execution_count": 18,
   "metadata": {},
   "outputs": [],
   "source": [
    "w, h = depth_img.shape\n",
    "# 相机内参矩阵\n",
    "k = np.array([[535.4, 0.0, 320.0],\n",
    "              [0.0, 539.2, 240.0],\n",
    "              [0.0, 0.0, 1.0]])\n",
    "\n",
    "# 每次都一样，避免重复计算\n",
    "i, j = np.indices((w, h))\n",
    "static_array = np.stack((i, j, np.ones((w, h))), axis=2).reshape(-1, 3)\n",
    "# 获取相机内参的逆矩阵\n",
    "k_inv = np.linalg.inv(k)\n",
    "\n",
    "# 每行乘逆矩阵\n",
    "point_array = k_inv@static_array.T\n",
    "    \n",
    "def depth_to_point_cloud_v3(depth,_point_array):\n",
    "    #ssad\n",
    "    depth_flat = depth.astype(np.float32).reshape(-1,1)\n",
    "    # 每行乘深度值\n",
    "    point_cloud = depth_flat * _point_array.T\n",
    "    return point_cloud"
   ]
  },
  {
   "cell_type": "code",
   "execution_count": 3,
   "metadata": {},
   "outputs": [
    {
     "data": {
      "text/plain": [
       "array([[[  0,   0,   0, ...,   0,   0,   0],\n",
       "        [  1,   1,   1, ...,   1,   1,   1],\n",
       "        [  2,   2,   2, ...,   2,   2,   2],\n",
       "        ...,\n",
       "        [477, 477, 477, ..., 477, 477, 477],\n",
       "        [478, 478, 478, ..., 478, 478, 478],\n",
       "        [479, 479, 479, ..., 479, 479, 479]],\n",
       "\n",
       "       [[  0,   1,   2, ..., 637, 638, 639],\n",
       "        [  0,   1,   2, ..., 637, 638, 639],\n",
       "        [  0,   1,   2, ..., 637, 638, 639],\n",
       "        ...,\n",
       "        [  0,   1,   2, ..., 637, 638, 639],\n",
       "        [  0,   1,   2, ..., 637, 638, 639],\n",
       "        [  0,   1,   2, ..., 637, 638, 639]]])"
      ]
     },
     "execution_count": 3,
     "metadata": {},
     "output_type": "execute_result"
    }
   ],
   "source": [
    "# 说明大多开销在    static_array = np.array([np.array([i,j, 1]) for i in range(w) for j in range(h)])\n",
    "\n",
    "# 加速代码\n",
    "i, j = np.indices((w, h))\n",
    "_static_array = np.stack((i, j, np.ones((w, h))), axis=2).reshape(-1, 3) #0.004s\n",
    "\n",
    "# 原理说明：\n",
    "# 第一个矩阵是行数阵，第二个是列数阵，第三个是全一阵，把三个矩阵堆叠，再reshape即可；通过这种方法避免循环太慢\n",
    "np.indices((w, h))"
   ]
  },
  {
   "cell_type": "code",
   "execution_count": 14,
   "metadata": {},
   "outputs": [
    {
     "name": "stdout",
     "output_type": "stream",
     "text": [
      "Time elapsed average 10 times:0.0027 seconds.\n"
     ]
    }
   ],
   "source": [
    "# 十次求平均\n",
    "elapsed_time_list = []\n",
    "for i in range(10):# \n",
    "    start_time = time.time()  # 记录开始时间\n",
    "\n",
    "    # 将深度图转换为点云\n",
    "    pc = depth_to_point_cloud_v3(depth_img,point_array)\n",
    "\n",
    "    end_time = time.time()  # 记录结束时间\n",
    "\n",
    "    elapsed_time = end_time - start_time  # 计算耗时\n",
    "\n",
    "    elapsed_time_list.append(elapsed_time)\n",
    "\n",
    "average_time = sum(elapsed_time_list) / len(elapsed_time_list)\n",
    "\n",
    "print(f\"Time elapsed average 10 times:{average_time:.4f} seconds.\")"
   ]
  },
  {
   "cell_type": "code",
   "execution_count": 20,
   "metadata": {},
   "outputs": [
    {
     "name": "stdout",
     "output_type": "stream",
     "text": [
      "         6 function calls in 0.004 seconds\n",
      "\n",
      "   Ordered by: standard name\n",
      "\n",
      "   ncalls  tottime  percall  cumtime  percall filename:lineno(function)\n",
      "        1    0.003    0.003    0.003    0.003 3098973681.py:16(depth_to_point_cloud_v3)\n",
      "        1    0.000    0.000    0.004    0.004 <string>:1(<module>)\n",
      "        1    0.000    0.000    0.004    0.004 {built-in method builtins.exec}\n",
      "        1    0.000    0.000    0.000    0.000 {method 'astype' of 'numpy.ndarray' objects}\n",
      "        1    0.000    0.000    0.000    0.000 {method 'disable' of '_lsprof.Profiler' objects}\n",
      "        1    0.000    0.000    0.000    0.000 {method 'reshape' of 'numpy.ndarray' objects}\n",
      "\n",
      "\n"
     ]
    }
   ],
   "source": [
    "import cProfile\n",
    "cProfile.run('depth_to_point_cloud_v3(depth_img,point_array)')"
   ]
  },
  {
   "cell_type": "code",
   "execution_count": 9,
   "metadata": {},
   "outputs": [],
   "source": [
    "# 可视化点云\n",
    "\n",
    "# 点云数据存储在名为point_cloud的numpy数组中\n",
    "cloud = o3d.geometry.PointCloud()\n",
    "cloud.points = o3d.utility.Vector3dVector(pc)\n",
    "\n",
    "# 创建一个可视化窗口\n",
    "vis = o3d.visualization.Visualizer()\n",
    "vis.create_window()\n",
    "\n",
    "# 将点云添加到可视化窗口中\n",
    "vis.add_geometry(cloud)\n",
    "\n",
    "# 设置相机位置，没调所以可有可无\n",
    "vis.get_view_control().set_front([0, 0, -1])\n",
    "vis.get_view_control().set_lookat([0, 0, 0])\n",
    "vis.get_view_control().set_up([0, -1, 0])\n",
    "\n",
    "# 开始显示点云\n",
    "vis.run()\n",
    "\n",
    "# 关闭显示窗口\n",
    "vis.destroy_window()"
   ]
  },
  {
   "cell_type": "markdown",
   "metadata": {},
   "source": [
    "0.0027s! 超越open3d!定深度图尺寸下、定内参矩阵、不考虑畸变的情况加速300倍"
   ]
  }
 ],
 "metadata": {
  "kernelspec": {
   "display_name": "env4cv",
   "language": "python",
   "name": "python3"
  },
  "language_info": {
   "codemirror_mode": {
    "name": "ipython",
    "version": 3
   },
   "file_extension": ".py",
   "mimetype": "text/x-python",
   "name": "python",
   "nbconvert_exporter": "python",
   "pygments_lexer": "ipython3",
   "version": "3.11.6"
  }
 },
 "nbformat": 4,
 "nbformat_minor": 2
}
